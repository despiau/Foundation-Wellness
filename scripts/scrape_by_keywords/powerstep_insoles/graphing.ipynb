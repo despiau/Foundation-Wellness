{
 "cells": [
  {
   "cell_type": "code",
   "execution_count": 16,
   "metadata": {},
   "outputs": [],
   "source": [
    "import pandas as pd\n",
    "import matplotlib.pyplot as plt\n",
    "from matplotlib.dates import MonthLocator, DateFormatter\n",
    "pd.options.mode.chained_assignment = None"
   ]
  },
  {
   "cell_type": "code",
   "execution_count": 17,
   "metadata": {},
   "outputs": [],
   "source": [
    "file_name = \"output.csv\"\n",
    "BSR = \"B005AFHRH4\""
   ]
  },
  {
   "cell_type": "code",
   "execution_count": 18,
   "metadata": {},
   "outputs": [],
   "source": [
    "df = pd.read_csv(file_name,header=None)\n"
   ]
  },
  {
   "cell_type": "code",
   "execution_count": 19,
   "metadata": {},
   "outputs": [],
   "source": [
    "mod_df = df.loc[df[1] == BSR]"
   ]
  },
  {
   "cell_type": "code",
   "execution_count": 20,
   "metadata": {},
   "outputs": [],
   "source": [
    "mod_df[2] = mod_df[2].str.replace('#', '').astype(int)\n",
    "mod_df.set_index(0, inplace=True)\n"
   ]
  },
  {
   "cell_type": "code",
   "execution_count": 21,
   "metadata": {},
   "outputs": [
    {
     "data": {
      "image/png": "[encoded data removed]",
      "text/plain": [
       "<Figure size 640x480 with 1 Axes>"
      ]
     },
     "metadata": {
      "needs_background": "light"
     },
     "output_type": "display_data"
    }
   ],
   "source": [
    "if mod_df[2].max()+5 > 100:\n",
    "    mx = 100\n",
    "else:\n",
    "    mx = mod_df[2].max()+5\n",
    "    \n",
    "if mod_df[2].min()-5 < 0:\n",
    "    mn = 0\n",
    "else:\n",
    "    mn = mod_df[2].min()-5\n",
    "\n",
    "plt.figure(figsize=(8, 6), dpi=80)\n",
    "plt.plot(mod_df.index, mod_df[2],marker = 'o', color = 'b')\n",
    "plt.ylim(mn, mx)\n",
    "plt.xlabel(\"Date and time\")\n",
    "plt.ylabel(\"Rank\")\n",
    "plt.title(\"BSR: \" + BSR)\n",
    "plt.xticks(rotation=45, ha='right')\n",
    "plt.grid(True)\n",
    "plt.show()\n"
   ]
  },
  {
   "cell_type": "code",
   "execution_count": null,
   "metadata": {},
   "outputs": [],
   "source": []
  }
 ],
 "metadata": {
  "kernelspec": {
   "display_name": "Python 3.9.12 ('base')",
   "language": "python",
   "name": "python3"
  },
  "language_info": {
   "codemirror_mode": {
    "name": "ipython",
    "version": 3
   },
   "file_extension": ".py",
   "mimetype": "text/x-python",
   "name": "python",
   "nbconvert_exporter": "python",
   "pygments_lexer": "ipython3",
   "version": "3.9.12"
  },
  "orig_nbformat": 4,
  "vscode": {
   "interpreter": {
    "hash": "1f282fc2f1d8e9fb5420ea90415731027ca2a94f03073ccef911303ca142b0a0"
   }
  }
 },
 "nbformat": 4,
 "nbformat_minor": 2
}
